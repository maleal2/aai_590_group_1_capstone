{
 "cells": [
  {
   "cell_type": "code",
   "execution_count": 2,
   "metadata": {
    "id": "H0Ob2Di6sp5_"
   },
   "outputs": [],
   "source": [
    "import pandas as pd\n",
    "import matplotlib.pyplot as plt\n",
    "from sklearn.model_selection import train_test_split\n",
    "from transformers import BertForSequenceClassification, BertTokenizerFast, Trainer, TrainingArguments\n",
    "import torch\n",
    "import os\n",
    "os.environ[\"TOKENIZERS_PARALLELISM\"] = \"false\"\n",
    "from sklearn.metrics import accuracy_score, classification_report\n",
    "import matplotlib.pyplot as plt\n",
    "import seaborn as sns\n",
    "from sklearn.metrics import confusion_matrix\n",
    "\n"
   ]
  },
  {
   "cell_type": "markdown",
   "metadata": {},
   "source": [
    "## Intent Dataset"
   ]
  },
  {
   "cell_type": "code",
   "execution_count": 3,
   "metadata": {},
   "outputs": [
    {
     "name": "stdout",
     "output_type": "stream",
     "text": [
      "Crisis Detected           50\n",
      "Help-Seeking & Anxious    50\n",
      "General Chat & Happy      50\n",
      "Neutral Intent            50\n",
      "Name: intent_label, dtype: int64\n"
     ]
    },
    {
     "data": {
      "image/png": "[encoded data removed]",
      "text/plain": [
       "<Figure size 640x480 with 1 Axes>"
      ]
     },
     "metadata": {},
     "output_type": "display_data"
    }
   ],
   "source": [
    "\n",
    "intents_df = pd.read_csv('Intents.csv')\n",
    "intent_distribution = intents_df['intent_label'].value_counts()\n",
    "\n",
    "print(intent_distribution)\n",
    "\n",
    "\n",
    "intent_distribution.plot(kind='bar', color='skyblue')\n",
    "plt.title('Intent Label Distribution')\n",
    "plt.xlabel('Intent Label')\n",
    "plt.ylabel('Number of Samples')\n",
    "plt.xticks(rotation=0)\n",
    "plt.grid(axis='y')\n",
    "plt.show()"
   ]
  },
  {
   "cell_type": "code",
   "execution_count": 4,
   "metadata": {},
   "outputs": [],
   "source": [
    "# Split intent data explicitly (70-15-15%)\n",
    "intent_mapping = {'General Chat & Happy': 0, 'Neutral Intent': 1, 'Help-Seeking & Anxious': 2, 'Crisis Detected': 3}\n",
    "intents_df['intent_label'] = intents_df['intent_label'].map(intent_mapping)\n",
    "\n",
    "intent_train, intent_temp = train_test_split(intents_df, test_size=0.3, stratify=intents_df['intent_label'], random_state=42)\n",
    "intent_val, intent_test = train_test_split(intent_temp, test_size=0.5, stratify=intent_temp['intent_label'], random_state=42)\n"
   ]
  },
  {
   "cell_type": "code",
   "execution_count": 5,
   "metadata": {},
   "outputs": [
    {
     "name": "stdout",
     "output_type": "stream",
     "text": [
      "Intent distribution in Training Set:\n",
      "0    0.25\n",
      "3    0.25\n",
      "2    0.25\n",
      "1    0.25\n",
      "Name: intent_label, dtype: float64\n",
      "\n",
      "Intent distribution in Validation set:\n",
      "3    0.266667\n",
      "1    0.266667\n",
      "0    0.233333\n",
      "2    0.233333\n",
      "Name: intent_label, dtype: float64\n",
      "\n",
      "Test set intent label distribution:\n",
      "0    0.266667\n",
      "2    0.266667\n",
      "3    0.233333\n",
      "1    0.233333\n",
      "Name: intent_label, dtype: float64\n"
     ]
    }
   ],
   "source": [
    "# Explicitly check intent distribution in all splits:\n",
    "print(\"Intent distribution in Training Set:\")\n",
    "print(intent_train['intent_label'].value_counts(normalize=True))\n",
    "\n",
    "print(\"\\nIntent distribution in Validation set:\")\n",
    "print(intent_val['intent_label'].value_counts(normalize=True))\n",
    "\n",
    "print(\"\\nTest set intent label distribution:\")\n",
    "print(intent_test['intent_label'].value_counts(normalize=True))"
   ]
  },
  {
   "cell_type": "code",
   "execution_count": 6,
   "metadata": {},
   "outputs": [],
   "source": [
    "\n",
    "\n",
    "# Tokenization\n",
    "tokenizer = BertTokenizerFast.from_pretrained('bert-base-uncased')\n",
    "\n",
    "def tokenize_data(texts, labels):\n",
    "    return tokenizer(texts, padding='max_length', truncation=True, max_length=128), labels"
   ]
  },
  {
   "cell_type": "code",
   "execution_count": 7,
   "metadata": {},
   "outputs": [],
   "source": [
    "# Dataset class explicitly defined\n",
    "class MentalHealthDataset(torch.utils.data.Dataset):\n",
    "    def __init__(self, encodings, labels):\n",
    "        self.encodings = encodings\n",
    "        self.labels = labels\n",
    "    \n",
    "    def __getitem__(self, idx):\n",
    "        item = {key: torch.tensor(val[idx]) for key, val in self.encodings.items()}\n",
    "        item['labels'] = torch.tensor(self.labels[idx])\n",
    "        return item\n",
    "    \n",
    "    def __len__(self):\n",
    "        return len(self.labels)"
   ]
  },
  {
   "cell_type": "code",
   "execution_count": 12,
   "metadata": {},
   "outputs": [
    {
     "name": "stderr",
     "output_type": "stream",
     "text": [
      "Some weights of BertForSequenceClassification were not initialized from the model checkpoint at bert-base-uncased and are newly initialized: ['classifier.bias', 'classifier.weight']\n",
      "You should probably TRAIN this model on a down-stream task to be able to use it for predictions and inference.\n"
     ]
    },
    {
     "data": {
      "application/vnd.jupyter.widget-view+json": {
       "model_id": "cffec5262f7747e5bf88912edd74ba6d",
       "version_major": 2,
       "version_minor": 0
      },
      "text/plain": [
       "  0%|          | 0/450 [00:00<?, ?it/s]"
      ]
     },
     "metadata": {},
     "output_type": "display_data"
    },
    {
     "data": {
      "application/vnd.jupyter.widget-view+json": {
       "model_id": "7b9bddeddaf24e0997ad2b17e501249d",
       "version_major": 2,
       "version_minor": 0
      },
      "text/plain": [
       "  0%|          | 0/2 [00:00<?, ?it/s]"
      ]
     },
     "metadata": {},
     "output_type": "display_data"
    },
    {
     "name": "stdout",
     "output_type": "stream",
     "text": [
      "{'eval_loss': 1.2959827184677124, 'eval_runtime': 0.221, 'eval_samples_per_second': 135.733, 'eval_steps_per_second': 9.049, 'epoch': 1.0}\n"
     ]
    },
    {
     "data": {
      "application/vnd.jupyter.widget-view+json": {
       "model_id": "2db94bb93c764b058bd0f861e9b4a793",
       "version_major": 2,
       "version_minor": 0
      },
      "text/plain": [
       "  0%|          | 0/2 [00:00<?, ?it/s]"
      ]
     },
     "metadata": {},
     "output_type": "display_data"
    },
    {
     "name": "stdout",
     "output_type": "stream",
     "text": [
      "{'eval_loss': 1.1939011812210083, 'eval_runtime': 0.2191, 'eval_samples_per_second': 136.924, 'eval_steps_per_second': 9.128, 'epoch': 2.0}\n"
     ]
    },
    {
     "data": {
      "application/vnd.jupyter.widget-view+json": {
       "model_id": "1cd8aa2ae4664d4e9ea7fa3bd07319fb",
       "version_major": 2,
       "version_minor": 0
      },
      "text/plain": [
       "  0%|          | 0/2 [00:00<?, ?it/s]"
      ]
     },
     "metadata": {},
     "output_type": "display_data"
    },
    {
     "name": "stdout",
     "output_type": "stream",
     "text": [
      "{'eval_loss': 1.097132921218872, 'eval_runtime': 0.2198, 'eval_samples_per_second': 136.483, 'eval_steps_per_second': 9.099, 'epoch': 3.0}\n"
     ]
    },
    {
     "data": {
      "application/vnd.jupyter.widget-view+json": {
       "model_id": "b19b2c07dcee455caadff818186d8f56",
       "version_major": 2,
       "version_minor": 0
      },
      "text/plain": [
       "  0%|          | 0/2 [00:00<?, ?it/s]"
      ]
     },
     "metadata": {},
     "output_type": "display_data"
    },
    {
     "name": "stdout",
     "output_type": "stream",
     "text": [
      "{'eval_loss': 0.9724393486976624, 'eval_runtime': 0.224, 'eval_samples_per_second': 133.904, 'eval_steps_per_second': 8.927, 'epoch': 4.0}\n"
     ]
    },
    {
     "data": {
      "application/vnd.jupyter.widget-view+json": {
       "model_id": "a0cae8d860214d6ab9e7c9eea6fcbcb9",
       "version_major": 2,
       "version_minor": 0
      },
      "text/plain": [
       "  0%|          | 0/2 [00:00<?, ?it/s]"
      ]
     },
     "metadata": {},
     "output_type": "display_data"
    },
    {
     "name": "stdout",
     "output_type": "stream",
     "text": [
      "{'eval_loss': 0.8787140250205994, 'eval_runtime': 0.2197, 'eval_samples_per_second': 136.536, 'eval_steps_per_second': 9.102, 'epoch': 5.0}\n"
     ]
    },
    {
     "data": {
      "application/vnd.jupyter.widget-view+json": {
       "model_id": "f1ae59cc748548d681c1a8934e6825f4",
       "version_major": 2,
       "version_minor": 0
      },
      "text/plain": [
       "  0%|          | 0/2 [00:00<?, ?it/s]"
      ]
     },
     "metadata": {},
     "output_type": "display_data"
    },
    {
     "name": "stdout",
     "output_type": "stream",
     "text": [
      "{'eval_loss': 0.7250762581825256, 'eval_runtime': 0.2198, 'eval_samples_per_second': 136.494, 'eval_steps_per_second': 9.1, 'epoch': 6.0}\n"
     ]
    },
    {
     "data": {
      "application/vnd.jupyter.widget-view+json": {
       "model_id": "737de84fe1134763a795e55585c01c7e",
       "version_major": 2,
       "version_minor": 0
      },
      "text/plain": [
       "  0%|          | 0/2 [00:00<?, ?it/s]"
      ]
     },
     "metadata": {},
     "output_type": "display_data"
    },
    {
     "name": "stdout",
     "output_type": "stream",
     "text": [
      "{'eval_loss': 0.7179973721504211, 'eval_runtime': 0.2206, 'eval_samples_per_second': 135.97, 'eval_steps_per_second': 9.065, 'epoch': 7.0}\n"
     ]
    },
    {
     "data": {
      "application/vnd.jupyter.widget-view+json": {
       "model_id": "75b65545d33b4d60b8bad915fc8cade9",
       "version_major": 2,
       "version_minor": 0
      },
      "text/plain": [
       "  0%|          | 0/2 [00:00<?, ?it/s]"
      ]
     },
     "metadata": {},
     "output_type": "display_data"
    },
    {
     "name": "stdout",
     "output_type": "stream",
     "text": [
      "{'eval_loss': 0.6099087595939636, 'eval_runtime': 0.2206, 'eval_samples_per_second': 136.012, 'eval_steps_per_second': 9.067, 'epoch': 8.0}\n"
     ]
    },
    {
     "data": {
      "application/vnd.jupyter.widget-view+json": {
       "model_id": "5f8f97aff5aa4630975e3c2cd69508ed",
       "version_major": 2,
       "version_minor": 0
      },
      "text/plain": [
       "  0%|          | 0/2 [00:00<?, ?it/s]"
      ]
     },
     "metadata": {},
     "output_type": "display_data"
    },
    {
     "name": "stdout",
     "output_type": "stream",
     "text": [
      "{'eval_loss': 0.5018690228462219, 'eval_runtime': 0.2184, 'eval_samples_per_second': 137.347, 'eval_steps_per_second': 9.156, 'epoch': 9.0}\n"
     ]
    },
    {
     "data": {
      "application/vnd.jupyter.widget-view+json": {
       "model_id": "3eb60422e2134b57ae90e47c62549a1b",
       "version_major": 2,
       "version_minor": 0
      },
      "text/plain": [
       "  0%|          | 0/2 [00:00<?, ?it/s]"
      ]
     },
     "metadata": {},
     "output_type": "display_data"
    },
    {
     "name": "stdout",
     "output_type": "stream",
     "text": [
      "{'eval_loss': 0.44010284543037415, 'eval_runtime': 0.2247, 'eval_samples_per_second': 133.531, 'eval_steps_per_second': 8.902, 'epoch': 10.0}\n"
     ]
    },
    {
     "data": {
      "application/vnd.jupyter.widget-view+json": {
       "model_id": "c83096a9d11e4c31b4126f9a00515923",
       "version_major": 2,
       "version_minor": 0
      },
      "text/plain": [
       "  0%|          | 0/2 [00:00<?, ?it/s]"
      ]
     },
     "metadata": {},
     "output_type": "display_data"
    },
    {
     "name": "stdout",
     "output_type": "stream",
     "text": [
      "{'eval_loss': 0.36485251784324646, 'eval_runtime': 0.2167, 'eval_samples_per_second': 138.457, 'eval_steps_per_second': 9.23, 'epoch': 11.0}\n"
     ]
    },
    {
     "data": {
      "application/vnd.jupyter.widget-view+json": {
       "model_id": "72b9b2b7db8343fb9b2ea5aa3a89ad5d",
       "version_major": 2,
       "version_minor": 0
      },
      "text/plain": [
       "  0%|          | 0/2 [00:00<?, ?it/s]"
      ]
     },
     "metadata": {},
     "output_type": "display_data"
    },
    {
     "name": "stdout",
     "output_type": "stream",
     "text": [
      "{'eval_loss': 0.41874656081199646, 'eval_runtime': 0.2225, 'eval_samples_per_second': 134.861, 'eval_steps_per_second': 8.991, 'epoch': 12.0}\n"
     ]
    },
    {
     "data": {
      "application/vnd.jupyter.widget-view+json": {
       "model_id": "c35978e385d643648768e81033336155",
       "version_major": 2,
       "version_minor": 0
      },
      "text/plain": [
       "  0%|          | 0/2 [00:00<?, ?it/s]"
      ]
     },
     "metadata": {},
     "output_type": "display_data"
    },
    {
     "name": "stdout",
     "output_type": "stream",
     "text": [
      "{'eval_loss': 0.30139878392219543, 'eval_runtime': 0.2233, 'eval_samples_per_second': 134.319, 'eval_steps_per_second': 8.955, 'epoch': 13.0}\n"
     ]
    },
    {
     "data": {
      "application/vnd.jupyter.widget-view+json": {
       "model_id": "dc3f4239f5ab4c148e098cb52f8cf36d",
       "version_major": 2,
       "version_minor": 0
      },
      "text/plain": [
       "  0%|          | 0/2 [00:00<?, ?it/s]"
      ]
     },
     "metadata": {},
     "output_type": "display_data"
    },
    {
     "name": "stdout",
     "output_type": "stream",
     "text": [
      "{'eval_loss': 0.28202852606773376, 'eval_runtime': 0.2182, 'eval_samples_per_second': 137.475, 'eval_steps_per_second': 9.165, 'epoch': 14.0}\n"
     ]
    },
    {
     "data": {
      "application/vnd.jupyter.widget-view+json": {
       "model_id": "5ae0460b5b1d42738257806860a6be1b",
       "version_major": 2,
       "version_minor": 0
      },
      "text/plain": [
       "  0%|          | 0/2 [00:00<?, ?it/s]"
      ]
     },
     "metadata": {},
     "output_type": "display_data"
    },
    {
     "name": "stdout",
     "output_type": "stream",
     "text": [
      "{'eval_loss': 0.2755557894706726, 'eval_runtime': 0.2175, 'eval_samples_per_second': 137.925, 'eval_steps_per_second': 9.195, 'epoch': 15.0}\n"
     ]
    },
    {
     "data": {
      "application/vnd.jupyter.widget-view+json": {
       "model_id": "6f68395286a146dd8fb1399d189c9466",
       "version_major": 2,
       "version_minor": 0
      },
      "text/plain": [
       "  0%|          | 0/2 [00:00<?, ?it/s]"
      ]
     },
     "metadata": {},
     "output_type": "display_data"
    },
    {
     "name": "stdout",
     "output_type": "stream",
     "text": [
      "{'eval_loss': 0.3094770312309265, 'eval_runtime': 0.2234, 'eval_samples_per_second': 134.275, 'eval_steps_per_second': 8.952, 'epoch': 16.0}\n"
     ]
    },
    {
     "data": {
      "application/vnd.jupyter.widget-view+json": {
       "model_id": "fcfc54b6ccfa49ecac73864e4aa8209c",
       "version_major": 2,
       "version_minor": 0
      },
      "text/plain": [
       "  0%|          | 0/2 [00:00<?, ?it/s]"
      ]
     },
     "metadata": {},
     "output_type": "display_data"
    },
    {
     "name": "stdout",
     "output_type": "stream",
     "text": [
      "{'eval_loss': 0.24679303169250488, 'eval_runtime': 0.2184, 'eval_samples_per_second': 137.389, 'eval_steps_per_second': 9.159, 'epoch': 17.0}\n"
     ]
    },
    {
     "data": {
      "application/vnd.jupyter.widget-view+json": {
       "model_id": "06ed5a3edf1d4b8d8ef14cce15ebaf34",
       "version_major": 2,
       "version_minor": 0
      },
      "text/plain": [
       "  0%|          | 0/2 [00:00<?, ?it/s]"
      ]
     },
     "metadata": {},
     "output_type": "display_data"
    },
    {
     "name": "stdout",
     "output_type": "stream",
     "text": [
      "{'eval_loss': 0.23974746465682983, 'eval_runtime': 0.2191, 'eval_samples_per_second': 136.899, 'eval_steps_per_second': 9.127, 'epoch': 18.0}\n"
     ]
    },
    {
     "data": {
      "application/vnd.jupyter.widget-view+json": {
       "model_id": "82087fd709534650812220d229ca541d",
       "version_major": 2,
       "version_minor": 0
      },
      "text/plain": [
       "  0%|          | 0/2 [00:00<?, ?it/s]"
      ]
     },
     "metadata": {},
     "output_type": "display_data"
    },
    {
     "name": "stdout",
     "output_type": "stream",
     "text": [
      "{'eval_loss': 0.23764225840568542, 'eval_runtime': 0.22, 'eval_samples_per_second': 136.363, 'eval_steps_per_second': 9.091, 'epoch': 19.0}\n"
     ]
    },
    {
     "data": {
      "application/vnd.jupyter.widget-view+json": {
       "model_id": "d2fa71858f7b43c980cc96d02461d7d3",
       "version_major": 2,
       "version_minor": 0
      },
      "text/plain": [
       "  0%|          | 0/2 [00:00<?, ?it/s]"
      ]
     },
     "metadata": {},
     "output_type": "display_data"
    },
    {
     "name": "stdout",
     "output_type": "stream",
     "text": [
      "{'eval_loss': 0.25614461302757263, 'eval_runtime': 0.2242, 'eval_samples_per_second': 133.83, 'eval_steps_per_second': 8.922, 'epoch': 20.0}\n"
     ]
    },
    {
     "data": {
      "application/vnd.jupyter.widget-view+json": {
       "model_id": "cbdf945f003f4a8aa3d21d97ef2f3742",
       "version_major": 2,
       "version_minor": 0
      },
      "text/plain": [
       "  0%|          | 0/2 [00:00<?, ?it/s]"
      ]
     },
     "metadata": {},
     "output_type": "display_data"
    },
    {
     "name": "stdout",
     "output_type": "stream",
     "text": [
      "{'eval_loss': 0.24271802604198456, 'eval_runtime': 0.218, 'eval_samples_per_second': 137.591, 'eval_steps_per_second': 9.173, 'epoch': 21.0}\n"
     ]
    },
    {
     "data": {
      "application/vnd.jupyter.widget-view+json": {
       "model_id": "d530f8734a13450cbe57ff79e4b9875d",
       "version_major": 2,
       "version_minor": 0
      },
      "text/plain": [
       "  0%|          | 0/2 [00:00<?, ?it/s]"
      ]
     },
     "metadata": {},
     "output_type": "display_data"
    },
    {
     "name": "stdout",
     "output_type": "stream",
     "text": [
      "{'eval_loss': 0.1950802505016327, 'eval_runtime': 0.2217, 'eval_samples_per_second': 135.295, 'eval_steps_per_second': 9.02, 'epoch': 22.0}\n"
     ]
    },
    {
     "data": {
      "application/vnd.jupyter.widget-view+json": {
       "model_id": "cfa127352cd141f79b8b77630a067625",
       "version_major": 2,
       "version_minor": 0
      },
      "text/plain": [
       "  0%|          | 0/2 [00:00<?, ?it/s]"
      ]
     },
     "metadata": {},
     "output_type": "display_data"
    },
    {
     "name": "stdout",
     "output_type": "stream",
     "text": [
      "{'eval_loss': 0.21912604570388794, 'eval_runtime': 0.2207, 'eval_samples_per_second': 135.945, 'eval_steps_per_second': 9.063, 'epoch': 23.0}\n"
     ]
    },
    {
     "data": {
      "application/vnd.jupyter.widget-view+json": {
       "model_id": "8cd8608472394e35a6319c0402b3460c",
       "version_major": 2,
       "version_minor": 0
      },
      "text/plain": [
       "  0%|          | 0/2 [00:00<?, ?it/s]"
      ]
     },
     "metadata": {},
     "output_type": "display_data"
    },
    {
     "name": "stdout",
     "output_type": "stream",
     "text": [
      "{'eval_loss': 0.252519428730011, 'eval_runtime': 0.2195, 'eval_samples_per_second': 136.683, 'eval_steps_per_second': 9.112, 'epoch': 24.0}\n"
     ]
    },
    {
     "data": {
      "application/vnd.jupyter.widget-view+json": {
       "model_id": "42a316d5d53647dc82c61356ec36c82c",
       "version_major": 2,
       "version_minor": 0
      },
      "text/plain": [
       "  0%|          | 0/2 [00:00<?, ?it/s]"
      ]
     },
     "metadata": {},
     "output_type": "display_data"
    },
    {
     "name": "stdout",
     "output_type": "stream",
     "text": [
      "{'eval_loss': 0.23028521239757538, 'eval_runtime': 0.2161, 'eval_samples_per_second': 138.83, 'eval_steps_per_second': 9.255, 'epoch': 25.0}\n"
     ]
    },
    {
     "data": {
      "application/vnd.jupyter.widget-view+json": {
       "model_id": "fb3e1c780e1c40aaa4dcf364baf3b917",
       "version_major": 2,
       "version_minor": 0
      },
      "text/plain": [
       "  0%|          | 0/2 [00:00<?, ?it/s]"
      ]
     },
     "metadata": {},
     "output_type": "display_data"
    },
    {
     "name": "stdout",
     "output_type": "stream",
     "text": [
      "{'eval_loss': 0.2088124305009842, 'eval_runtime': 0.2215, 'eval_samples_per_second': 135.41, 'eval_steps_per_second': 9.027, 'epoch': 26.0}\n"
     ]
    },
    {
     "data": {
      "application/vnd.jupyter.widget-view+json": {
       "model_id": "e7befe18fe3947e285567f6fa9ff9baa",
       "version_major": 2,
       "version_minor": 0
      },
      "text/plain": [
       "  0%|          | 0/2 [00:00<?, ?it/s]"
      ]
     },
     "metadata": {},
     "output_type": "display_data"
    },
    {
     "name": "stdout",
     "output_type": "stream",
     "text": [
      "{'eval_loss': 0.23384663462638855, 'eval_runtime': 0.2194, 'eval_samples_per_second': 136.719, 'eval_steps_per_second': 9.115, 'epoch': 27.0}\n"
     ]
    },
    {
     "data": {
      "application/vnd.jupyter.widget-view+json": {
       "model_id": "ab990d99bf1146b5a3dac8c5e797dc88",
       "version_major": 2,
       "version_minor": 0
      },
      "text/plain": [
       "  0%|          | 0/2 [00:00<?, ?it/s]"
      ]
     },
     "metadata": {},
     "output_type": "display_data"
    },
    {
     "name": "stdout",
     "output_type": "stream",
     "text": [
      "{'eval_loss': 0.23135215044021606, 'eval_runtime': 0.2214, 'eval_samples_per_second': 135.531, 'eval_steps_per_second': 9.035, 'epoch': 28.0}\n"
     ]
    },
    {
     "data": {
      "application/vnd.jupyter.widget-view+json": {
       "model_id": "21c191ed3abb4390812750c9abe69cde",
       "version_major": 2,
       "version_minor": 0
      },
      "text/plain": [
       "  0%|          | 0/2 [00:00<?, ?it/s]"
      ]
     },
     "metadata": {},
     "output_type": "display_data"
    },
    {
     "name": "stdout",
     "output_type": "stream",
     "text": [
      "{'eval_loss': 0.22879792749881744, 'eval_runtime': 0.2216, 'eval_samples_per_second': 135.405, 'eval_steps_per_second': 9.027, 'epoch': 29.0}\n"
     ]
    },
    {
     "data": {
      "application/vnd.jupyter.widget-view+json": {
       "model_id": "3daa056f766d4bd88f5cc341390597e5",
       "version_major": 2,
       "version_minor": 0
      },
      "text/plain": [
       "  0%|          | 0/2 [00:00<?, ?it/s]"
      ]
     },
     "metadata": {},
     "output_type": "display_data"
    },
    {
     "name": "stdout",
     "output_type": "stream",
     "text": [
      "{'eval_loss': 0.23304055631160736, 'eval_runtime': 0.2204, 'eval_samples_per_second': 136.096, 'eval_steps_per_second': 9.073, 'epoch': 30.0}\n"
     ]
    },
    {
     "data": {
      "application/vnd.jupyter.widget-view+json": {
       "model_id": "ee5e933006d641e8b5944404af898cd5",
       "version_major": 2,
       "version_minor": 0
      },
      "text/plain": [
       "  0%|          | 0/2 [00:00<?, ?it/s]"
      ]
     },
     "metadata": {},
     "output_type": "display_data"
    },
    {
     "name": "stdout",
     "output_type": "stream",
     "text": [
      "{'eval_loss': 0.22679859399795532, 'eval_runtime': 0.2176, 'eval_samples_per_second': 137.863, 'eval_steps_per_second': 9.191, 'epoch': 31.0}\n"
     ]
    },
    {
     "data": {
      "application/vnd.jupyter.widget-view+json": {
       "model_id": "880e46297813442697e65fb6cf105fef",
       "version_major": 2,
       "version_minor": 0
      },
      "text/plain": [
       "  0%|          | 0/2 [00:00<?, ?it/s]"
      ]
     },
     "metadata": {},
     "output_type": "display_data"
    },
    {
     "name": "stdout",
     "output_type": "stream",
     "text": [
      "{'eval_loss': 0.21838903427124023, 'eval_runtime': 0.2204, 'eval_samples_per_second': 136.13, 'eval_steps_per_second': 9.075, 'epoch': 32.0}\n"
     ]
    },
    {
     "data": {
      "application/vnd.jupyter.widget-view+json": {
       "model_id": "a912575a8b0649f99d0f3ba0b924888e",
       "version_major": 2,
       "version_minor": 0
      },
      "text/plain": [
       "  0%|          | 0/2 [00:00<?, ?it/s]"
      ]
     },
     "metadata": {},
     "output_type": "display_data"
    },
    {
     "name": "stdout",
     "output_type": "stream",
     "text": [
      "{'eval_loss': 0.21635502576828003, 'eval_runtime': 0.2208, 'eval_samples_per_second': 135.873, 'eval_steps_per_second': 9.058, 'epoch': 33.0}\n"
     ]
    },
    {
     "data": {
      "application/vnd.jupyter.widget-view+json": {
       "model_id": "2885801162804a9a8d5e338170cd8ecb",
       "version_major": 2,
       "version_minor": 0
      },
      "text/plain": [
       "  0%|          | 0/2 [00:00<?, ?it/s]"
      ]
     },
     "metadata": {},
     "output_type": "display_data"
    },
    {
     "name": "stdout",
     "output_type": "stream",
     "text": [
      "{'eval_loss': 0.22339285910129547, 'eval_runtime': 0.2211, 'eval_samples_per_second': 135.697, 'eval_steps_per_second': 9.046, 'epoch': 34.0}\n"
     ]
    },
    {
     "data": {
      "application/vnd.jupyter.widget-view+json": {
       "model_id": "ccbc50be7808448f847b8da9af701249",
       "version_major": 2,
       "version_minor": 0
      },
      "text/plain": [
       "  0%|          | 0/2 [00:00<?, ?it/s]"
      ]
     },
     "metadata": {},
     "output_type": "display_data"
    },
    {
     "name": "stdout",
     "output_type": "stream",
     "text": [
      "{'eval_loss': 0.2340935915708542, 'eval_runtime': 0.2199, 'eval_samples_per_second': 136.416, 'eval_steps_per_second': 9.094, 'epoch': 35.0}\n"
     ]
    },
    {
     "data": {
      "application/vnd.jupyter.widget-view+json": {
       "model_id": "efbdfb7fcf9f4b0fab03889d7b43d4e9",
       "version_major": 2,
       "version_minor": 0
      },
      "text/plain": [
       "  0%|          | 0/2 [00:00<?, ?it/s]"
      ]
     },
     "metadata": {},
     "output_type": "display_data"
    },
    {
     "name": "stdout",
     "output_type": "stream",
     "text": [
      "{'eval_loss': 0.24325567483901978, 'eval_runtime': 0.2206, 'eval_samples_per_second': 136.013, 'eval_steps_per_second': 9.068, 'epoch': 36.0}\n"
     ]
    },
    {
     "data": {
      "application/vnd.jupyter.widget-view+json": {
       "model_id": "d08eb0db6fef473c8b848b5594335c26",
       "version_major": 2,
       "version_minor": 0
      },
      "text/plain": [
       "  0%|          | 0/2 [00:00<?, ?it/s]"
      ]
     },
     "metadata": {},
     "output_type": "display_data"
    },
    {
     "name": "stdout",
     "output_type": "stream",
     "text": [
      "{'eval_loss': 0.24436280131340027, 'eval_runtime': 0.2197, 'eval_samples_per_second': 136.575, 'eval_steps_per_second': 9.105, 'epoch': 37.0}\n"
     ]
    },
    {
     "data": {
      "application/vnd.jupyter.widget-view+json": {
       "model_id": "e93b2a09e0da4e9fbb58d3196a42191d",
       "version_major": 2,
       "version_minor": 0
      },
      "text/plain": [
       "  0%|          | 0/2 [00:00<?, ?it/s]"
      ]
     },
     "metadata": {},
     "output_type": "display_data"
    },
    {
     "name": "stdout",
     "output_type": "stream",
     "text": [
      "{'eval_loss': 0.24059194326400757, 'eval_runtime': 0.2192, 'eval_samples_per_second': 136.861, 'eval_steps_per_second': 9.124, 'epoch': 38.0}\n"
     ]
    },
    {
     "data": {
      "application/vnd.jupyter.widget-view+json": {
       "model_id": "d614c7d06062493bbacb693b5cd73e2c",
       "version_major": 2,
       "version_minor": 0
      },
      "text/plain": [
       "  0%|          | 0/2 [00:00<?, ?it/s]"
      ]
     },
     "metadata": {},
     "output_type": "display_data"
    },
    {
     "name": "stdout",
     "output_type": "stream",
     "text": [
      "{'eval_loss': 0.23858164250850677, 'eval_runtime': 0.2193, 'eval_samples_per_second': 136.786, 'eval_steps_per_second': 9.119, 'epoch': 39.0}\n"
     ]
    },
    {
     "data": {
      "application/vnd.jupyter.widget-view+json": {
       "model_id": "3335f46c6d8640c6a0eaaa39439bedc4",
       "version_major": 2,
       "version_minor": 0
      },
      "text/plain": [
       "  0%|          | 0/2 [00:00<?, ?it/s]"
      ]
     },
     "metadata": {},
     "output_type": "display_data"
    },
    {
     "name": "stdout",
     "output_type": "stream",
     "text": [
      "{'eval_loss': 0.23937135934829712, 'eval_runtime': 0.222, 'eval_samples_per_second': 135.151, 'eval_steps_per_second': 9.01, 'epoch': 40.0}\n"
     ]
    },
    {
     "data": {
      "application/vnd.jupyter.widget-view+json": {
       "model_id": "eef4889e405c4581b834bebb0400264c",
       "version_major": 2,
       "version_minor": 0
      },
      "text/plain": [
       "  0%|          | 0/2 [00:00<?, ?it/s]"
      ]
     },
     "metadata": {},
     "output_type": "display_data"
    },
    {
     "name": "stdout",
     "output_type": "stream",
     "text": [
      "{'eval_loss': 0.23217138648033142, 'eval_runtime': 0.2216, 'eval_samples_per_second': 135.405, 'eval_steps_per_second': 9.027, 'epoch': 41.0}\n"
     ]
    },
    {
     "data": {
      "application/vnd.jupyter.widget-view+json": {
       "model_id": "91fca986fafe495bb47da9317d35c7d6",
       "version_major": 2,
       "version_minor": 0
      },
      "text/plain": [
       "  0%|          | 0/2 [00:00<?, ?it/s]"
      ]
     },
     "metadata": {},
     "output_type": "display_data"
    },
    {
     "name": "stdout",
     "output_type": "stream",
     "text": [
      "{'eval_loss': 0.22951044142246246, 'eval_runtime': 0.2225, 'eval_samples_per_second': 134.809, 'eval_steps_per_second': 8.987, 'epoch': 42.0}\n"
     ]
    },
    {
     "data": {
      "application/vnd.jupyter.widget-view+json": {
       "model_id": "c6bed73a92754791a0a24fdec8aa2657",
       "version_major": 2,
       "version_minor": 0
      },
      "text/plain": [
       "  0%|          | 0/2 [00:00<?, ?it/s]"
      ]
     },
     "metadata": {},
     "output_type": "display_data"
    },
    {
     "name": "stdout",
     "output_type": "stream",
     "text": [
      "{'eval_loss': 0.22916531562805176, 'eval_runtime': 0.2174, 'eval_samples_per_second': 137.981, 'eval_steps_per_second': 9.199, 'epoch': 43.0}\n"
     ]
    },
    {
     "data": {
      "application/vnd.jupyter.widget-view+json": {
       "model_id": "2eca62fc90714b94976ed10495c52edd",
       "version_major": 2,
       "version_minor": 0
      },
      "text/plain": [
       "  0%|          | 0/2 [00:00<?, ?it/s]"
      ]
     },
     "metadata": {},
     "output_type": "display_data"
    },
    {
     "name": "stdout",
     "output_type": "stream",
     "text": [
      "{'eval_loss': 0.2304503172636032, 'eval_runtime': 0.2195, 'eval_samples_per_second': 136.688, 'eval_steps_per_second': 9.113, 'epoch': 44.0}\n"
     ]
    },
    {
     "data": {
      "application/vnd.jupyter.widget-view+json": {
       "model_id": "0edd3b623b364520abb4250eaef8fcea",
       "version_major": 2,
       "version_minor": 0
      },
      "text/plain": [
       "  0%|          | 0/2 [00:00<?, ?it/s]"
      ]
     },
     "metadata": {},
     "output_type": "display_data"
    },
    {
     "name": "stdout",
     "output_type": "stream",
     "text": [
      "{'eval_loss': 0.23165521025657654, 'eval_runtime': 0.2181, 'eval_samples_per_second': 137.543, 'eval_steps_per_second': 9.17, 'epoch': 45.0}\n"
     ]
    },
    {
     "data": {
      "application/vnd.jupyter.widget-view+json": {
       "model_id": "8e99ec7e24e945b5afe8eded2503db75",
       "version_major": 2,
       "version_minor": 0
      },
      "text/plain": [
       "  0%|          | 0/2 [00:00<?, ?it/s]"
      ]
     },
     "metadata": {},
     "output_type": "display_data"
    },
    {
     "name": "stdout",
     "output_type": "stream",
     "text": [
      "{'eval_loss': 0.233038529753685, 'eval_runtime': 0.2191, 'eval_samples_per_second': 136.927, 'eval_steps_per_second': 9.128, 'epoch': 46.0}\n"
     ]
    },
    {
     "data": {
      "application/vnd.jupyter.widget-view+json": {
       "model_id": "395d3ff0b3d14238bdee6988eb110bb3",
       "version_major": 2,
       "version_minor": 0
      },
      "text/plain": [
       "  0%|          | 0/2 [00:00<?, ?it/s]"
      ]
     },
     "metadata": {},
     "output_type": "display_data"
    },
    {
     "name": "stdout",
     "output_type": "stream",
     "text": [
      "{'eval_loss': 0.23148788511753082, 'eval_runtime': 0.2196, 'eval_samples_per_second': 136.621, 'eval_steps_per_second': 9.108, 'epoch': 47.0}\n"
     ]
    },
    {
     "data": {
      "application/vnd.jupyter.widget-view+json": {
       "model_id": "6504885a6a9645efb25cda7e5682b91f",
       "version_major": 2,
       "version_minor": 0
      },
      "text/plain": [
       "  0%|          | 0/2 [00:00<?, ?it/s]"
      ]
     },
     "metadata": {},
     "output_type": "display_data"
    },
    {
     "name": "stdout",
     "output_type": "stream",
     "text": [
      "{'eval_loss': 0.231026753783226, 'eval_runtime': 0.2201, 'eval_samples_per_second': 136.291, 'eval_steps_per_second': 9.086, 'epoch': 48.0}\n"
     ]
    },
    {
     "data": {
      "application/vnd.jupyter.widget-view+json": {
       "model_id": "972d23e20ca943708a9e70ffe51c0b99",
       "version_major": 2,
       "version_minor": 0
      },
      "text/plain": [
       "  0%|          | 0/2 [00:00<?, ?it/s]"
      ]
     },
     "metadata": {},
     "output_type": "display_data"
    },
    {
     "name": "stdout",
     "output_type": "stream",
     "text": [
      "{'eval_loss': 0.23098979890346527, 'eval_runtime': 0.2194, 'eval_samples_per_second': 136.749, 'eval_steps_per_second': 9.117, 'epoch': 49.0}\n"
     ]
    },
    {
     "data": {
      "application/vnd.jupyter.widget-view+json": {
       "model_id": "2968d3b5a2334254b11fd02b58d75e20",
       "version_major": 2,
       "version_minor": 0
      },
      "text/plain": [
       "  0%|          | 0/2 [00:00<?, ?it/s]"
      ]
     },
     "metadata": {},
     "output_type": "display_data"
    },
    {
     "name": "stdout",
     "output_type": "stream",
     "text": [
      "{'eval_loss': 0.23127040266990662, 'eval_runtime': 0.2617, 'eval_samples_per_second': 114.649, 'eval_steps_per_second': 7.643, 'epoch': 50.0}\n",
      "{'train_runtime': 266.6208, 'train_samples_per_second': 26.255, 'train_steps_per_second': 1.688, 'train_loss': 0.19532511393229166, 'epoch': 50.0}\n"
     ]
    },
    {
     "data": {
      "text/plain": [
       "TrainOutput(global_step=450, training_loss=0.19532511393229166, metrics={'train_runtime': 266.6208, 'train_samples_per_second': 26.255, 'train_steps_per_second': 1.688, 'total_flos': 460452615168000.0, 'train_loss': 0.19532511393229166, 'epoch': 50.0})"
      ]
     },
     "execution_count": 12,
     "metadata": {},
     "output_type": "execute_result"
    }
   ],
   "source": [
    "train_encodings, train_labels = tokenize_data(intent_train['text'].tolist(), intent_train['intent_label'].tolist())\n",
    "val_encodings, val_labels = tokenize_data(intent_val['text'].tolist(), intent_val['intent_label'].tolist())\n",
    "\n",
    "train_dataset = MentalHealthDataset(train_encodings, train_labels)\n",
    "val_dataset = MentalHealthDataset(val_encodings, val_labels)\n",
    "\n",
    "# BERT fine-tuning explicitly\n",
    "model = BertForSequenceClassification.from_pretrained('bert-base-uncased', num_labels=4)  # Adjust num_labels clearly\n",
    "\n",
    "training_args = TrainingArguments(\n",
    "    output_dir='./results_intent',\n",
    "    num_train_epochs=50,\n",
    "    per_device_train_batch_size=16,\n",
    "    per_device_eval_batch_size=16,\n",
    "    eval_strategy=\"epoch\",\n",
    "    save_strategy=\"epoch\",\n",
    "    learning_rate=1e-5,\n",
    ")\n",
    "\n",
    "trainer = Trainer(\n",
    "    model=model,\n",
    "    args=training_args,\n",
    "    train_dataset=train_dataset,\n",
    "    eval_dataset=val_dataset\n",
    ")\n",
    "\n",
    "trainer.train()"
   ]
  },
  {
   "cell_type": "code",
   "execution_count": 13,
   "metadata": {},
   "outputs": [
    {
     "data": {
      "application/vnd.jupyter.widget-view+json": {
       "model_id": "80e130d22f5e4fcf850f64163c707b73",
       "version_major": 2,
       "version_minor": 0
      },
      "text/plain": [
       "  0%|          | 0/2 [00:00<?, ?it/s]"
      ]
     },
     "metadata": {},
     "output_type": "display_data"
    },
    {
     "name": "stdout",
     "output_type": "stream",
     "text": [
      "Validation accuracy explicitly: 90.00%\n",
      "              precision    recall  f1-score   support\n",
      "\n",
      "           0       1.00      1.00      1.00         7\n",
      "           1       0.89      1.00      0.94         8\n",
      "           2       0.75      0.86      0.80         7\n",
      "           3       1.00      0.75      0.86         8\n",
      "\n",
      "    accuracy                           0.90        30\n",
      "   macro avg       0.91      0.90      0.90        30\n",
      "weighted avg       0.91      0.90      0.90        30\n",
      "\n"
     ]
    }
   ],
   "source": [
    "predictions = trainer.predict(val_dataset)\n",
    "pred_labels = predictions.predictions.argmax(axis=1)\n",
    "\n",
    "accuracy = accuracy_score(val_labels, pred_labels)\n",
    "print(f\"Validation accuracy explicitly: {accuracy:.2%}\")\n",
    "print(classification_report(val_labels, pred_labels))"
   ]
  },
  {
   "cell_type": "code",
   "execution_count": 14,
   "metadata": {},
   "outputs": [
    {
     "data": {
      "application/vnd.jupyter.widget-view+json": {
       "model_id": "d7666129c4914ab2acd81f98824e866e",
       "version_major": 2,
       "version_minor": 0
      },
      "text/plain": [
       "  0%|          | 0/2 [00:00<?, ?it/s]"
      ]
     },
     "metadata": {},
     "output_type": "display_data"
    },
    {
     "name": "stdout",
     "output_type": "stream",
     "text": [
      "Test Accuracy explicitly: 0.87\n",
      "              precision    recall  f1-score   support\n",
      "\n",
      "           0       0.89      1.00      0.94         8\n",
      "           1       0.70      1.00      0.82         7\n",
      "           2       1.00      0.62      0.77         8\n",
      "           3       1.00      0.86      0.92         7\n",
      "\n",
      "    accuracy                           0.87        30\n",
      "   macro avg       0.90      0.87      0.86        30\n",
      "weighted avg       0.90      0.87      0.86        30\n",
      "\n"
     ]
    }
   ],
   "source": [
    "test_encodings, test_labels = tokenize_data(intent_test['text'].tolist(), intent_test['intent_label'].tolist())\n",
    "test_dataset = MentalHealthDataset(test_encodings, test_labels)\n",
    "predictions = trainer.predict(test_dataset)\n",
    "pred_labels = predictions.predictions.argmax(axis=1)\n",
    "\n",
    "accuracy = accuracy_score(test_labels, pred_labels)\n",
    "print(f\"Test Accuracy explicitly: {accuracy:.2f}\")\n",
    "print(classification_report(test_labels, pred_labels))"
   ]
  },
  {
   "cell_type": "code",
   "execution_count": 15,
   "metadata": {},
   "outputs": [
    {
     "data": {
      "image/png": "[encoded data removed]",
      "text/plain": [
       "<Figure size 800x600 with 2 Axes>"
      ]
     },
     "metadata": {},
     "output_type": "display_data"
    }
   ],
   "source": [
    "class_labels = ['General Chat & Happy', 'Neutral Intent', 'Help-Seeking & Anxious','Crisis Detected']\n",
    "\n",
    "cm = confusion_matrix(test_labels, pred_labels)\n",
    "\n",
    "#  visualize confusion matrix clearly\n",
    "plt.figure(figsize=(8,6))\n",
    "sns.heatmap(cm, annot=True, fmt='d', cmap='Blues', xticklabels=class_labels, yticklabels=class_labels)\n",
    "\n",
    "#  label axes clearly\n",
    "plt.xlabel('Predicted Label explicitly', fontsize=12)\n",
    "plt.ylabel('True Label explicitly', fontsize=12)\n",
    "plt.title('Confusion Matrix explicitly (Test Data)', fontsize=14)\n",
    "plt.show()"
   ]
  },
  {
   "cell_type": "code",
   "execution_count": 16,
   "metadata": {},
   "outputs": [
    {
     "data": {
      "text/plain": [
       "('./bert_intent_classifier/tokenizer_config.json',\n",
       " './bert_intent_classifier/special_tokens_map.json',\n",
       " './bert_intent_classifier/vocab.txt',\n",
       " './bert_intent_classifier/added_tokens.json',\n",
       " './bert_intent_classifier/tokenizer.json')"
      ]
     },
     "execution_count": 16,
     "metadata": {},
     "output_type": "execute_result"
    }
   ],
   "source": [
    "model.save_pretrained(\"./bert_intent_classifier\")\n",
    "tokenizer.save_pretrained(\"./bert_intent_classifier\")"
   ]
  },
  {
   "cell_type": "code",
   "execution_count": 21,
   "metadata": {},
   "outputs": [
    {
     "name": "stdout",
     "output_type": "stream",
     "text": [
      "Predicted Sentiment explicitly: Help-Seeking & Anxious (Class ID: 2)\n"
     ]
    }
   ],
   "source": [
    "from transformers import BertForSequenceClassification, BertTokenizerFast\n",
    "\n",
    "# explicitly load the fine-tuned model explicitly\n",
    "model = BertForSequenceClassification.from_pretrained('./bert_intent_classifier')\n",
    "tokenizer = BertTokenizerFast.from_pretrained('./bert_intent_classifier')\n",
    "\n",
    "model.eval()\n",
    "\n",
    "# explicitly your input clearly\n",
    "text = \"i'm feeling lonely\"\n",
    "\n",
    "# explicitly tokenize input clearly\n",
    "encoding = tokenizer(text, return_tensors='pt')\n",
    "\n",
    "# explicitly get model outputs (logits) clearly\n",
    "with torch.no_grad():  # explicitly disable gradient computation for inference clearly\n",
    "    output = model(**encoding)\n",
    "\n",
    "# explicitly predict clearly (get class with highest logit clearly)\n",
    "predicted_class_id = torch.argmax(output.logits, dim=-1).item()\n",
    "\n",
    "# explicitly map back clearly to your labels explicitly\n",
    "id_to_label = {0: 'General Chat & Happy', 1: 'Neutral Intent', 2: 'Help-Seeking & Anxious', 3: 'Crisis Detected'}\n",
    "\n",
    "predicted_label = id_to_label[predicted_class_id]\n",
    "\n",
    "# explicitly print prediction clearly\n",
    "print(f\"Predicted Sentiment explicitly: {predicted_label} (Class ID: {predicted_class_id})\")\n"
   ]
  }
 ],
 "metadata": {
  "accelerator": "GPU",
  "colab": {
   "provenance": []
  },
  "gpuClass": "standard",
  "kernelspec": {
   "display_name": "Python 3",
   "name": "python3"
  },
  "language_info": {
   "codemirror_mode": {
    "name": "ipython",
    "version": 3
   },
   "file_extension": ".py",
   "mimetype": "text/x-python",
   "name": "python",
   "nbconvert_exporter": "python",
   "pygments_lexer": "ipython3",
   "version": "3.9.6"
  }
 },
 "nbformat": 4,
 "nbformat_minor": 0
}
