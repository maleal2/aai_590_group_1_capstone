{
 "cells": [
  {
   "cell_type": "markdown",
   "metadata": {},
   "source": [
    "## BERT Classifier Sentiment Detection"
   ]
  },
  {
   "cell_type": "code",
   "execution_count": 2,
   "metadata": {
    "id": "H0Ob2Di6sp5_"
   },
   "outputs": [
    {
     "name": "stderr",
     "output_type": "stream",
     "text": [
      "huggingface/tokenizers: The current process just got forked, after parallelism has already been used. Disabling parallelism to avoid deadlocks...\n",
      "To disable this warning, you can either:\n",
      "\t- Avoid using `tokenizers` before the fork if possible\n",
      "\t- Explicitly set the environment variable TOKENIZERS_PARALLELISM=(true | false)\n"
     ]
    }
   ],
   "source": [
    "import pandas as pd\n",
    "import matplotlib.pyplot as plt\n",
    "from sklearn.model_selection import train_test_split\n",
    "from transformers import BertForSequenceClassification, BertTokenizerFast, Trainer, TrainingArguments\n",
    "import torch\n",
    "import os\n",
    "os.environ[\"TOKENIZERS_PARALLELISM\"] = \"false\"\n",
    "from sklearn.metrics import accuracy_score, classification_report\n",
    "import matplotlib.pyplot as plt\n",
    "import seaborn as sns\n",
    "from sklearn.metrics import confusion_matrix\n",
    "\n"
   ]
  },
  {
   "cell_type": "markdown",
   "metadata": {},
   "source": [
    "## Sentiments Dataset and Preprocessing"
   ]
  },
  {
   "cell_type": "markdown",
   "metadata": {},
   "source": [
    "https://storage.googleapis.com/gresearch/goemotions/data/full_dataset/goemotions_1.csv \n",
    "\n",
    "https://storage.googleapis.com/gresearch/goemotions/data/full_dataset/goemotions_2.csv"
   ]
  },
  {
   "cell_type": "code",
   "execution_count": 10,
   "metadata": {},
   "outputs": [],
   "source": [
    "# Define mapping\n",
    "simplified_sentiment_mapping = {\n",
    "        'happy': ['joy', 'admiration', 'amusement', 'excitement', 'approval', 'gratitude', 'optimism', 'pride', 'love'],\n",
    "        'distressed': ['sadness', 'grief', 'disappointment', 'remorse', 'nervousness', 'fear', 'anger', 'disgust', 'annoyance', 'disapproval', 'embarrassment', 'desire'],\n",
    "        'neutral': ['neutral', 'curiosity', 'confusion', 'realization', 'surprise', 'caring']\n",
    "    }\n",
    "# Load GoEmotions clearly\n",
    "goemotions_df_1 = pd.read_csv('goemotions_1.csv')\n",
    "goemotions_df_2 = pd.read_csv('goemotions_2.csv')\n",
    "# Simplified function to map original labels clearly into 4 sentiment classes\n",
    "def map_to_simple_sentiment(row):\n",
    "    emotion_columns =  {\n",
    "        'happy': ['joy', 'admiration', 'amusement', 'excitement', 'approval', 'gratitude', 'optimism', 'pride', 'love'],\n",
    "        'distressed': ['sadness', 'grief', 'disappointment', 'remorse', 'nervousness', 'fear', 'anger', 'disgust', 'annoyance', 'disapproval', 'embarrassment', 'desire'],\n",
    "        'neutral': ['neutral', 'curiosity', 'confusion', 'realization', 'surprise', 'caring']\n",
    "    }\n",
    "    \n",
    "    for simple_sentiment, labels in emotion_columns.items():\n",
    "        if row[labels].sum() > 0:\n",
    "            return simple_sentiment\n",
    "    return 'neutral'  # Default if no clear labels found\n",
    "\n",
    "# Apply sentiment mapping\n",
    "goemotions_df_1['sentiment_label'] = goemotions_df_1.apply(map_to_simple_sentiment, axis=1)\n",
    "goemotions_df_2['sentiment_label'] = goemotions_df_2.apply(map_to_simple_sentiment, axis=1)\n"
   ]
  },
  {
   "cell_type": "code",
   "execution_count": 11,
   "metadata": {},
   "outputs": [
    {
     "name": "stdout",
     "output_type": "stream",
     "text": [
      "                                                text sentiment_label\n",
      "0                                    That game hurt.      distressed\n",
      "1   >sexuality shouldn’t be a grouping category I...         neutral\n",
      "2     You do right, if you don't care then fuck 'em!         neutral\n",
      "3                                 Man I love reddit.           happy\n",
      "4  [NAME] was nowhere near them, he was by the Fa...         neutral\n"
     ]
    }
   ],
   "source": [
    "# Merge the two GoEmotions DataFrames clearly\n",
    "merged_goemotions_df = pd.concat([goemotions_df_1, goemotions_df_2], ignore_index=True)\n",
    "\n",
    "# Keep only required columns explicitly (\"text\" and \"sentiment_label\")\n",
    "final_goemotions_df = merged_goemotions_df[['text', 'sentiment_label']]\n",
    "\n",
    "# Save to CSV clearly for ease of use later\n",
    "final_goemotions_df.to_csv('sentiments.csv', index=False)\n",
    "\n",
    "# Verify by displaying the head of the final DataFrame\n",
    "print(final_goemotions_df.head())\n"
   ]
  },
  {
   "cell_type": "code",
   "execution_count": 12,
   "metadata": {},
   "outputs": [
    {
     "name": "stdout",
     "output_type": "stream",
     "text": [
      "neutral       55571\n",
      "happy         49843\n",
      "distressed    34586\n",
      "Name: sentiment_label, dtype: int64\n"
     ]
    },
    {
     "data": {
      "image/png": "[encoded data removed]",
      "text/plain": [
       "<Figure size 640x480 with 1 Axes>"
      ]
     },
     "metadata": {},
     "output_type": "display_data"
    }
   ],
   "source": [
    "# Check clearly how many data points you have for each sentiment label\n",
    "sentiment_distribution = final_goemotions_df['sentiment_label'].value_counts()\n",
    "\n",
    "# Display sentiment distribution\n",
    "print(sentiment_distribution)\n",
    "\n",
    "# Visualize sentiment distribution explicitly with a bar plot\n",
    "\n",
    "sentiment_distribution.plot(kind='bar', color='skyblue')\n",
    "plt.title('Sentiment Label Distribution')\n",
    "plt.xlabel('Sentiment Label')\n",
    "plt.ylabel('Number of Samples')\n",
    "plt.xticks(rotation=0)\n",
    "plt.grid(axis='y')\n",
    "plt.show()\n"
   ]
  },
  {
   "cell_type": "markdown",
   "metadata": {},
   "source": [
    "## Handling Imbalance"
   ]
  },
  {
   "cell_type": "code",
   "execution_count": 13,
   "metadata": {},
   "outputs": [
    {
     "name": "stdout",
     "output_type": "stream",
     "text": [
      "neutral       55571\n",
      "happy         49843\n",
      "distressed    34586\n",
      "Name: sentiment_label, dtype: int64\n",
      "distressed    34586\n",
      "neutral       34586\n",
      "happy         34586\n",
      "Name: sentiment_label, dtype: int64\n"
     ]
    }
   ],
   "source": [
    "\n",
    "\n",
    "# Load your combined dataset\n",
    "df = pd.read_csv('sentiments.csv')\n",
    "\n",
    "# Check the distribution explicitly\n",
    "print(df['sentiment_label'].value_counts())\n",
    "\n",
    "# Define target sample size (e.g., equal to smallest class or a reasonable number)\n",
    "target_size = df['sentiment_label'].value_counts().min()\n",
    "\n",
    "# Perform downsampling clearly\n",
    "balanced_df = pd.concat([\n",
    "    df[df['sentiment_label'] == label].sample(target_size, random_state=42)\n",
    "    for label in df['sentiment_label'].unique()\n",
    "])\n",
    "\n",
    "# Verify balanced distribution\n",
    "print(balanced_df['sentiment_label'].value_counts())\n",
    "\n",
    "# Save the balanced dataset\n",
    "balanced_df.to_csv('balanced_sentiments.csv', index=False)\n"
   ]
  },
  {
   "cell_type": "markdown",
   "metadata": {},
   "source": [
    "### Split Dataset Train,Val,Test for Sentiments"
   ]
  },
  {
   "cell_type": "code",
   "execution_count": 27,
   "metadata": {},
   "outputs": [],
   "source": [
    "# Load sentiment dataset explicitly\n",
    "sentiment_df = pd.read_csv('balanced_sentiments.csv')\n",
    "sentiment_mapping = {'happy': 0, 'distressed': 1, 'neutral': 2}\n",
    "sentiment_df['sentiment_label'] = sentiment_df['sentiment_label'].map(sentiment_mapping)\n",
    "# Split sentiment data explicitly into Train-Validation-Test (80-10-10 split recommended)\n",
    "\n",
    "sent_train_val, sent_test = train_test_split(sentiment_df, test_size=0.1, stratify=sentiment_df['sentiment_label'], random_state=42)\n",
    "sent_train, sent_val = train_test_split(sent_train_val, test_size=0.11, stratify=sent_train_val['sentiment_label'], random_state=42)\n"
   ]
  },
  {
   "cell_type": "markdown",
   "metadata": {},
   "source": [
    "### Distribution Similarity of Output labels"
   ]
  },
  {
   "cell_type": "code",
   "execution_count": 28,
   "metadata": {},
   "outputs": [
    {
     "name": "stdout",
     "output_type": "stream",
     "text": [
      "Training sentiment distribution:\n",
      "2    0.333333\n",
      "0    0.333333\n",
      "1    0.333333\n",
      "Name: sentiment_label, dtype: float64\n",
      "\n",
      "Validation sentiment distribution:\n",
      "0    0.333398\n",
      "1    0.333301\n",
      "2    0.333301\n",
      "Name: sentiment_label, dtype: float64\n",
      "\n",
      "Test sentiment distribution:\n",
      "1    0.333365\n",
      "2    0.333365\n",
      "0    0.333269\n",
      "Name: sentiment_label, dtype: float64\n"
     ]
    }
   ],
   "source": [
    "# Explicitly verify sentiment distribution similarly\n",
    "print(\"Training sentiment distribution:\")\n",
    "print(sent_train['sentiment_label'].value_counts(normalize=True))\n",
    "\n",
    "print(\"\\nValidation sentiment distribution:\")\n",
    "print(sent_val['sentiment_label'].value_counts(normalize=True))\n",
    "\n",
    "print(\"\\nTest sentiment distribution:\")\n",
    "print(sent_test['sentiment_label'].value_counts(normalize=True))"
   ]
  },
  {
   "cell_type": "markdown",
   "metadata": {},
   "source": [
    "## Fine tuning BERT for Sentiments"
   ]
  },
  {
   "cell_type": "markdown",
   "metadata": {},
   "source": [
    "#### Tokenization"
   ]
  },
  {
   "cell_type": "code",
   "execution_count": 33,
   "metadata": {},
   "outputs": [],
   "source": [
    "\n",
    "\n",
    "# Tokenization\n",
    "tokenizer = BertTokenizerFast.from_pretrained('bert-base-uncased')\n",
    "\n",
    "def tokenize_data(texts, labels):\n",
    "    return tokenizer(texts, padding='max_length', truncation=True, max_length=128), labels"
   ]
  },
  {
   "cell_type": "code",
   "execution_count": 34,
   "metadata": {},
   "outputs": [],
   "source": [
    "# Dataset class explicitly defined\n",
    "class MentalHealthDataset(torch.utils.data.Dataset):\n",
    "    def __init__(self, encodings, labels):\n",
    "        self.encodings = encodings\n",
    "        self.labels = labels\n",
    "    \n",
    "    def __getitem__(self, idx):\n",
    "        item = {key: torch.tensor(val[idx]) for key, val in self.encodings.items()}\n",
    "        item['labels'] = torch.tensor(self.labels[idx])\n",
    "        return item\n",
    "    \n",
    "    def __len__(self):\n",
    "        return len(self.labels)"
   ]
  },
  {
   "cell_type": "markdown",
   "metadata": {},
   "source": [
    "#### Training the model"
   ]
  },
  {
   "cell_type": "code",
   "execution_count": 39,
   "metadata": {},
   "outputs": [
    {
     "name": "stderr",
     "output_type": "stream",
     "text": [
      "Some weights of BertForSequenceClassification were not initialized from the model checkpoint at bert-base-uncased and are newly initialized: ['classifier.bias', 'classifier.weight']\n",
      "You should probably TRAIN this model on a down-stream task to be able to use it for predictions and inference.\n"
     ]
    },
    {
     "data": {
      "application/vnd.jupyter.widget-view+json": {
       "model_id": "9edc291dcff44fbe86e00c1dbbc1d0f5",
       "version_major": 2,
       "version_minor": 0
      },
      "text/plain": [
       "  0%|          | 0/5196 [00:00<?, ?it/s]"
      ]
     },
     "metadata": {},
     "output_type": "display_data"
    },
    {
     "name": "stdout",
     "output_type": "stream",
     "text": [
      "{'loss': 0.8464, 'grad_norm': 4.180497646331787, 'learning_rate': 1.8075442648190917e-05, 'epoch': 0.19}\n",
      "{'loss': 0.7768, 'grad_norm': 3.5033185482025146, 'learning_rate': 1.6150885296381833e-05, 'epoch': 0.38}\n",
      "{'loss': 0.7638, 'grad_norm': 3.6267378330230713, 'learning_rate': 1.4226327944572749e-05, 'epoch': 0.58}\n",
      "{'loss': 0.7512, 'grad_norm': 2.606947660446167, 'learning_rate': 1.2301770592763664e-05, 'epoch': 0.77}\n",
      "{'loss': 0.7527, 'grad_norm': 4.552700519561768, 'learning_rate': 1.0377213240954582e-05, 'epoch': 0.96}\n"
     ]
    },
    {
     "data": {
      "application/vnd.jupyter.widget-view+json": {
       "model_id": "61981dc7e3d74adba33dd846eef1f1c1",
       "version_major": 2,
       "version_minor": 0
      },
      "text/plain": [
       "  0%|          | 0/322 [00:00<?, ?it/s]"
      ]
     },
     "metadata": {},
     "output_type": "display_data"
    },
    {
     "name": "stdout",
     "output_type": "stream",
     "text": [
      "{'eval_loss': 0.7446379661560059, 'eval_runtime': 75.5298, 'eval_samples_per_second': 136.012, 'eval_steps_per_second': 4.263, 'epoch': 1.0}\n",
      "{'loss': 0.6991, 'grad_norm': 4.3276190757751465, 'learning_rate': 8.452655889145497e-06, 'epoch': 1.15}\n",
      "{'loss': 0.6854, 'grad_norm': 4.737748146057129, 'learning_rate': 6.528098537336414e-06, 'epoch': 1.35}\n",
      "{'loss': 0.69, 'grad_norm': 4.546692848205566, 'learning_rate': 4.6035411855273295e-06, 'epoch': 1.54}\n",
      "{'loss': 0.6876, 'grad_norm': 5.616837978363037, 'learning_rate': 2.678983833718245e-06, 'epoch': 1.73}\n",
      "{'loss': 0.6802, 'grad_norm': 4.383632659912109, 'learning_rate': 7.54426481909161e-07, 'epoch': 1.92}\n"
     ]
    },
    {
     "data": {
      "application/vnd.jupyter.widget-view+json": {
       "model_id": "5728072fe5fb43af98055e3190951b6d",
       "version_major": 2,
       "version_minor": 0
      },
      "text/plain": [
       "  0%|          | 0/322 [00:00<?, ?it/s]"
      ]
     },
     "metadata": {},
     "output_type": "display_data"
    },
    {
     "name": "stdout",
     "output_type": "stream",
     "text": [
      "{'eval_loss': 0.7556121945381165, 'eval_runtime': 72.0925, 'eval_samples_per_second': 142.497, 'eval_steps_per_second': 4.466, 'epoch': 2.0}\n",
      "{'train_runtime': 5858.2414, 'train_samples_per_second': 28.373, 'train_steps_per_second': 0.887, 'train_loss': 0.7310747289033557, 'epoch': 2.0}\n"
     ]
    },
    {
     "data": {
      "text/plain": [
       "TrainOutput(global_step=5196, training_loss=0.7310747289033557, metrics={'train_runtime': 5858.2414, 'train_samples_per_second': 28.373, 'train_steps_per_second': 0.887, 'total_flos': 1.0933546516978176e+16, 'train_loss': 0.7310747289033557, 'epoch': 2.0})"
      ]
     },
     "execution_count": 39,
     "metadata": {},
     "output_type": "execute_result"
    }
   ],
   "source": [
    "\n",
    "train_encodings, train_labels = tokenize_data(sent_train['text'].tolist(), sent_train['sentiment_label'].tolist())\n",
    "val_encodings, val_labels = tokenize_data(sent_val['text'].tolist(), sent_val['sentiment_label'].tolist())\n",
    "\n",
    "train_dataset = MentalHealthDataset(train_encodings, train_labels)\n",
    "val_dataset = MentalHealthDataset(val_encodings, val_labels)\n",
    "\n",
    "# BERT fine-tuning explicitly\n",
    "model = BertForSequenceClassification.from_pretrained('bert-base-uncased', num_labels=3)  # Adjust num_labels clearly\n",
    "\n",
    "training_args = TrainingArguments(\n",
    "    output_dir='./results',\n",
    "    num_train_epochs=2,\n",
    "    per_device_train_batch_size=32,\n",
    "    per_device_eval_batch_size=32,\n",
    "    eval_strategy=\"epoch\",\n",
    "    save_strategy=\"epoch\",\n",
    "    learning_rate=2e-5,\n",
    ")\n",
    "\n",
    "trainer = Trainer(\n",
    "    model=model,\n",
    "    args=training_args,\n",
    "    train_dataset=train_dataset,\n",
    "    eval_dataset=val_dataset\n",
    ")\n",
    "\n",
    "trainer.train()\n"
   ]
  },
  {
   "cell_type": "markdown",
   "metadata": {},
   "source": [
    "#### Accuracy For Validation Dataset"
   ]
  },
  {
   "cell_type": "code",
   "execution_count": 43,
   "metadata": {},
   "outputs": [
    {
     "data": {
      "application/vnd.jupyter.widget-view+json": {
       "model_id": "31d027e5a35e40bfa6d1e5148a1d2e4a",
       "version_major": 2,
       "version_minor": 0
      },
      "text/plain": [
       "  0%|          | 0/322 [00:00<?, ?it/s]"
      ]
     },
     "metadata": {},
     "output_type": "display_data"
    },
    {
     "name": "stdout",
     "output_type": "stream",
     "text": [
      "Validation accuracy explicitly: 67.22%\n"
     ]
    }
   ],
   "source": [
    "predictions = trainer.predict(val_dataset)\n",
    "pred_labels = predictions.predictions.argmax(axis=1)\n",
    "\n",
    "accuracy = accuracy_score(val_labels, pred_labels)\n",
    "print(f\"Validation accuracy explicitly: {accuracy:.2%}\")\n"
   ]
  },
  {
   "cell_type": "markdown",
   "metadata": {},
   "source": [
    "#### Added more epoch to increase the accuracy"
   ]
  },
  {
   "cell_type": "code",
   "execution_count": 46,
   "metadata": {},
   "outputs": [
    {
     "name": "stderr",
     "output_type": "stream",
     "text": [
      "/Users/m276901/Library/Python/3.9/lib/python/site-packages/transformers/trainer.py:3262: FutureWarning: You are using `torch.load` with `weights_only=False` (the current default value), which uses the default pickle module implicitly. It is possible to construct malicious pickle data which will execute arbitrary code during unpickling (See https://github.com/pytorch/pytorch/blob/main/SECURITY.md#untrusted-models for more details). In a future release, the default value for `weights_only` will be flipped to `True`. This limits the functions that could be executed during unpickling. Arbitrary objects will no longer be allowed to be loaded via this mode unless they are explicitly allowlisted by the user via `torch.serialization.add_safe_globals`. We recommend you start setting `weights_only=True` for any use case where you don't have full control of the loaded file. Please open an issue on GitHub for any issues related to this experimental feature.\n",
      "  torch.load(os.path.join(checkpoint, OPTIMIZER_NAME), map_location=map_location)\n"
     ]
    },
    {
     "data": {
      "application/vnd.jupyter.widget-view+json": {
       "model_id": "46a3ed2c80674883a944b693b6b72448",
       "version_major": 2,
       "version_minor": 0
      },
      "text/plain": [
       "  0%|          | 0/12990 [00:00<?, ?it/s]"
      ]
     },
     "metadata": {},
     "output_type": "display_data"
    },
    {
     "name": "stderr",
     "output_type": "stream",
     "text": [
      "/Users/m276901/Library/Python/3.9/lib/python/site-packages/transformers/trainer.py:2944: FutureWarning: You are using `torch.load` with `weights_only=False` (the current default value), which uses the default pickle module implicitly. It is possible to construct malicious pickle data which will execute arbitrary code during unpickling (See https://github.com/pytorch/pytorch/blob/main/SECURITY.md#untrusted-models for more details). In a future release, the default value for `weights_only` will be flipped to `True`. This limits the functions that could be executed during unpickling. Arbitrary objects will no longer be allowed to be loaded via this mode unless they are explicitly allowlisted by the user via `torch.serialization.add_safe_globals`. We recommend you start setting `weights_only=True` for any use case where you don't have full control of the loaded file. Please open an issue on GitHub for any issues related to this experimental feature.\n",
      "  checkpoint_rng_state = torch.load(rng_file)\n"
     ]
    },
    {
     "name": "stdout",
     "output_type": "stream",
     "text": [
      "{'loss': 0.6564, 'grad_norm': 3.399953842163086, 'learning_rate': 1.1531947652040033e-05, 'epoch': 2.12}\n",
      "{'loss': 0.6592, 'grad_norm': 4.795050621032715, 'learning_rate': 1.0762124711316398e-05, 'epoch': 2.31}\n",
      "{'loss': 0.668, 'grad_norm': 5.626112937927246, 'learning_rate': 9.992301770592764e-06, 'epoch': 2.5}\n",
      "{'loss': 0.672, 'grad_norm': 4.129746913909912, 'learning_rate': 9.22247882986913e-06, 'epoch': 2.69}\n",
      "{'loss': 0.6669, 'grad_norm': 2.874091148376465, 'learning_rate': 8.452655889145497e-06, 'epoch': 2.89}\n"
     ]
    },
    {
     "data": {
      "application/vnd.jupyter.widget-view+json": {
       "model_id": "1bb35a62b37c4e328d900b07c451ae13",
       "version_major": 2,
       "version_minor": 0
      },
      "text/plain": [
       "  0%|          | 0/322 [00:00<?, ?it/s]"
      ]
     },
     "metadata": {},
     "output_type": "display_data"
    },
    {
     "name": "stdout",
     "output_type": "stream",
     "text": [
      "{'eval_loss': 0.759364902973175, 'eval_runtime': 71.3846, 'eval_samples_per_second': 143.911, 'eval_steps_per_second': 4.511, 'epoch': 3.0}\n",
      "{'loss': 0.6455, 'grad_norm': 5.7913689613342285, 'learning_rate': 7.682832948421864e-06, 'epoch': 3.08}\n",
      "{'loss': 0.6038, 'grad_norm': 6.834770202636719, 'learning_rate': 6.91301000769823e-06, 'epoch': 3.27}\n",
      "{'loss': 0.6022, 'grad_norm': 4.921018123626709, 'learning_rate': 6.143187066974596e-06, 'epoch': 3.46}\n",
      "{'loss': 0.6073, 'grad_norm': 5.903962135314941, 'learning_rate': 5.373364126250963e-06, 'epoch': 3.66}\n",
      "{'loss': 0.6036, 'grad_norm': 6.465673923492432, 'learning_rate': 4.6035411855273295e-06, 'epoch': 3.85}\n"
     ]
    },
    {
     "data": {
      "application/vnd.jupyter.widget-view+json": {
       "model_id": "9b81b031d9ca497286417769633ac3e2",
       "version_major": 2,
       "version_minor": 0
      },
      "text/plain": [
       "  0%|          | 0/322 [00:00<?, ?it/s]"
      ]
     },
     "metadata": {},
     "output_type": "display_data"
    },
    {
     "name": "stdout",
     "output_type": "stream",
     "text": [
      "{'eval_loss': 0.8106116056442261, 'eval_runtime': 71.4212, 'eval_samples_per_second': 143.837, 'eval_steps_per_second': 4.508, 'epoch': 4.0}\n",
      "{'loss': 0.6004, 'grad_norm': 4.466899871826172, 'learning_rate': 3.833718244803695e-06, 'epoch': 4.04}\n",
      "{'loss': 0.553, 'grad_norm': 6.708946228027344, 'learning_rate': 3.063895304080062e-06, 'epoch': 4.23}\n",
      "{'loss': 0.5509, 'grad_norm': 8.282623291015625, 'learning_rate': 2.294072363356428e-06, 'epoch': 4.43}\n",
      "{'loss': 0.5466, 'grad_norm': 5.171898365020752, 'learning_rate': 1.5242494226327945e-06, 'epoch': 4.62}\n",
      "{'loss': 0.5585, 'grad_norm': 5.789856910705566, 'learning_rate': 7.54426481909161e-07, 'epoch': 4.81}\n"
     ]
    },
    {
     "data": {
      "application/vnd.jupyter.widget-view+json": {
       "model_id": "0824ad3e459247209adf9ee8e5efe72f",
       "version_major": 2,
       "version_minor": 0
      },
      "text/plain": [
       "  0%|          | 0/322 [00:00<?, ?it/s]"
      ]
     },
     "metadata": {},
     "output_type": "display_data"
    },
    {
     "name": "stdout",
     "output_type": "stream",
     "text": [
      "{'eval_loss': 0.8679877519607544, 'eval_runtime': 71.5476, 'eval_samples_per_second': 143.583, 'eval_steps_per_second': 4.501, 'epoch': 5.0}\n",
      "{'train_runtime': 6212.5397, 'train_samples_per_second': 66.888, 'train_steps_per_second': 2.091, 'train_loss': 0.3650315952080777, 'epoch': 5.0}\n"
     ]
    },
    {
     "data": {
      "text/plain": [
       "TrainOutput(global_step=12990, training_loss=0.3650315952080777, metrics={'train_runtime': 6212.5397, 'train_samples_per_second': 66.888, 'train_steps_per_second': 2.091, 'total_flos': 2.733386629244544e+16, 'train_loss': 0.3650315952080777, 'epoch': 5.0})"
      ]
     },
     "execution_count": 46,
     "metadata": {},
     "output_type": "execute_result"
    }
   ],
   "source": [
    "training_args = TrainingArguments(\n",
    "    output_dir='./results',\n",
    "    num_train_epochs=5,  # explicitly clearly total epochs explicitly desired\n",
    "    per_device_train_batch_size=32,\n",
    "    per_device_eval_batch_size=32,\n",
    "    learning_rate=2e-5,\n",
    "    eval_strategy=\"epoch\",\n",
    "    save_strategy=\"epoch\",\n",
    ")\n",
    "trainer = Trainer(\n",
    "    model=model,\n",
    "    args=training_args,\n",
    "    train_dataset=train_dataset,\n",
    "    eval_dataset=val_dataset\n",
    ")\n",
    "trainer.train(resume_from_checkpoint='./results/checkpoint-5196')\n"
   ]
  },
  {
   "cell_type": "markdown",
   "metadata": {},
   "source": [
    "#### Validation accuracy After added epochs"
   ]
  },
  {
   "cell_type": "code",
   "execution_count": 47,
   "metadata": {},
   "outputs": [
    {
     "data": {
      "application/vnd.jupyter.widget-view+json": {
       "model_id": "49e71b2754fe40049345d401c2c360f2",
       "version_major": 2,
       "version_minor": 0
      },
      "text/plain": [
       "  0%|          | 0/322 [00:00<?, ?it/s]"
      ]
     },
     "metadata": {},
     "output_type": "display_data"
    },
    {
     "name": "stdout",
     "output_type": "stream",
     "text": [
      "Validation Accuracy explicitly: 0.65\n",
      "              precision    recall  f1-score   support\n",
      "\n",
      "           0       0.70      0.75      0.72      3425\n",
      "           1       0.64      0.71      0.68      3424\n",
      "           2       0.62      0.50      0.55      3424\n",
      "\n",
      "    accuracy                           0.65     10273\n",
      "   macro avg       0.65      0.65      0.65     10273\n",
      "weighted avg       0.65      0.65      0.65     10273\n",
      "\n"
     ]
    }
   ],
   "source": [
    "# Explicit accuracy explicitly clearly:\n",
    "predictions = trainer.predict(val_dataset)\n",
    "pred_labels = predictions.predictions.argmax(axis=1)\n",
    "\n",
    "accuracy = accuracy_score(val_labels, pred_labels)\n",
    "print(f\"Validation Accuracy explicitly: {accuracy:.2f}\")\n",
    "print(classification_report(val_labels, pred_labels))"
   ]
  },
  {
   "cell_type": "markdown",
   "metadata": {},
   "source": [
    "#### Accuracy for Test Dataset"
   ]
  },
  {
   "cell_type": "code",
   "execution_count": 49,
   "metadata": {},
   "outputs": [
    {
     "data": {
      "application/vnd.jupyter.widget-view+json": {
       "model_id": "8ce0af96161946e6803648f5c8a17e02",
       "version_major": 2,
       "version_minor": 0
      },
      "text/plain": [
       "  0%|          | 0/325 [00:00<?, ?it/s]"
      ]
     },
     "metadata": {},
     "output_type": "display_data"
    },
    {
     "name": "stdout",
     "output_type": "stream",
     "text": [
      "Test Accuracy explicitly: 0.66\n",
      "              precision    recall  f1-score   support\n",
      "\n",
      "           0       0.70      0.74      0.72      3458\n",
      "           1       0.65      0.73      0.68      3459\n",
      "           2       0.63      0.52      0.57      3459\n",
      "\n",
      "    accuracy                           0.66     10376\n",
      "   macro avg       0.66      0.66      0.66     10376\n",
      "weighted avg       0.66      0.66      0.66     10376\n",
      "\n"
     ]
    }
   ],
   "source": [
    "test_encodings, test_labels = tokenize_data(sent_test['text'].tolist(), sent_test['sentiment_label'].tolist())\n",
    "test_dataset = MentalHealthDataset(test_encodings, test_labels)\n",
    "predictions = trainer.predict(test_dataset)\n",
    "pred_labels = predictions.predictions.argmax(axis=1)\n",
    "\n",
    "accuracy = accuracy_score(test_labels, pred_labels)\n",
    "print(f\"Test Accuracy explicitly: {accuracy:.2f}\")\n",
    "print(classification_report(test_labels, pred_labels))"
   ]
  },
  {
   "cell_type": "markdown",
   "metadata": {},
   "source": [
    "#### Confusion matrix for Test data"
   ]
  },
  {
   "cell_type": "code",
   "execution_count": 51,
   "metadata": {},
   "outputs": [
    {
     "data": {
      "image/png": "[encoded data removed]",
      "text/plain": [
       "<Figure size 800x600 with 2 Axes>"
      ]
     },
     "metadata": {},
     "output_type": "display_data"
    }
   ],
   "source": [
    "class_labels = ['Happy', 'Distressed', 'Neutral']\n",
    "\n",
    "cm = confusion_matrix(test_labels, pred_labels)\n",
    "\n",
    "#  visualize confusion matrix clearly\n",
    "plt.figure(figsize=(8,6))\n",
    "sns.heatmap(cm, annot=True, fmt='d', cmap='Blues', xticklabels=class_labels, yticklabels=class_labels)\n",
    "\n",
    "#  label axes clearly\n",
    "plt.xlabel('Predicted Label explicitly', fontsize=12)\n",
    "plt.ylabel('True Label explicitly', fontsize=12)\n",
    "plt.title('Confusion Matrix explicitly (Test Data)', fontsize=14)\n",
    "plt.show()"
   ]
  },
  {
   "cell_type": "markdown",
   "metadata": {},
   "source": [
    "#### Model Saved"
   ]
  },
  {
   "cell_type": "code",
   "execution_count": 52,
   "metadata": {},
   "outputs": [
    {
     "data": {
      "text/plain": [
       "('./bert_sentiment_classifier/tokenizer_config.json',\n",
       " './bert_sentiment_classifier/special_tokens_map.json',\n",
       " './bert_sentiment_classifier/vocab.txt',\n",
       " './bert_sentiment_classifier/added_tokens.json',\n",
       " './bert_sentiment_classifier/tokenizer.json')"
      ]
     },
     "execution_count": 52,
     "metadata": {},
     "output_type": "execute_result"
    }
   ],
   "source": [
    "model.save_pretrained(\"./bert_sentiment_classifier\")\n",
    "tokenizer.save_pretrained(\"./bert_sentiment_classifier\")\n"
   ]
  },
  {
   "cell_type": "markdown",
   "metadata": {},
   "source": [
    "#### Testing the model with random texts"
   ]
  },
  {
   "cell_type": "code",
   "execution_count": 5,
   "metadata": {},
   "outputs": [
    {
     "name": "stdout",
     "output_type": "stream",
     "text": [
      "Predicted Sentiment explicitly: Distressed (Class ID: 1)\n"
     ]
    }
   ],
   "source": [
    "from transformers import BertForSequenceClassification, BertTokenizerFast\n",
    "\n",
    "# explicitly load the fine-tuned model explicitly\n",
    "model = BertForSequenceClassification.from_pretrained('./bert_sentiment_classifier')\n",
    "tokenizer = BertTokenizerFast.from_pretrained('./bert_sentiment_classifier')\n",
    "\n",
    "model.eval()\n",
    "\n",
    "# explicitly your input clearly\n",
    "text = \"I'm feeling anxious  and stressed\"\n",
    "\n",
    "# explicitly tokenize input clearly\n",
    "encoding = tokenizer(text, return_tensors='pt')\n",
    "\n",
    "# explicitly get model outputs (logits) clearly\n",
    "with torch.no_grad():  # explicitly disable gradient computation for inference clearly\n",
    "    output = model(**encoding)\n",
    "\n",
    "# explicitly predict clearly (get class with highest logit clearly)\n",
    "predicted_class_id = torch.argmax(output.logits, dim=-1).item()\n",
    "\n",
    "# explicitly map back clearly to your labels explicitly\n",
    "id_to_label = {0: 'Happy', 1: 'Distressed', 2: 'Neutral'}\n",
    "\n",
    "predicted_label = id_to_label[predicted_class_id]\n",
    "\n",
    "# explicitly print prediction clearly\n",
    "print(f\"Predicted Sentiment explicitly: {predicted_label} (Class ID: {predicted_class_id})\")\n"
   ]
  }
 ],
 "metadata": {
  "accelerator": "GPU",
  "colab": {
   "provenance": []
  },
  "gpuClass": "standard",
  "kernelspec": {
   "display_name": "Python 3",
   "name": "python3"
  },
  "language_info": {
   "codemirror_mode": {
    "name": "ipython",
    "version": 3
   },
   "file_extension": ".py",
   "mimetype": "text/x-python",
   "name": "python",
   "nbconvert_exporter": "python",
   "pygments_lexer": "ipython3",
   "version": "3.9.6"
  }
 },
 "nbformat": 4,
 "nbformat_minor": 0
}
